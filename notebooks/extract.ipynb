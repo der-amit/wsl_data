{
 "cells": [
  {
   "cell_type": "code",
   "execution_count": 2,
   "metadata": {},
   "outputs": [],
   "source": [
    "import pandas as pd\n",
    "import numpy as np\n",
    "from statsbombpy import sb\n",
    "import matplotlib.pyplot as plt\n",
    "import warnings\n"
   ]
  },
  {
   "cell_type": "code",
   "execution_count": 3,
   "metadata": {},
   "outputs": [],
   "source": [
    "warnings.filterwarnings('ignore')"
   ]
  },
  {
   "cell_type": "code",
   "execution_count": 4,
   "metadata": {},
   "outputs": [],
   "source": [
    "free_comps = sb.competitions()"
   ]
  },
  {
   "cell_type": "code",
   "execution_count": 5,
   "metadata": {},
   "outputs": [
    {
     "data": {
      "text/plain": [
       "Index(['competition_id', 'season_id', 'country_name', 'competition_name',\n",
       "       'competition_gender', 'competition_youth', 'competition_international',\n",
       "       'season_name', 'match_updated', 'match_updated_360',\n",
       "       'match_available_360', 'match_available'],\n",
       "      dtype='object')"
      ]
     },
     "execution_count": 5,
     "metadata": {},
     "output_type": "execute_result"
    }
   ],
   "source": [
    "free_comps.columns"
   ]
  },
  {
   "cell_type": "code",
   "execution_count": 6,
   "metadata": {},
   "outputs": [],
   "source": [
    "wsl_2018 = sb.matches(competition_id= 37, season_id = 4)\n",
    "wsl_2019 = sb.matches(competition_id= 37, season_id = 42)\n",
    "wsl_2020 = sb.matches(competition_id= 37, season_id = 90)"
   ]
  },
  {
   "cell_type": "code",
   "execution_count": 7,
   "metadata": {},
   "outputs": [
    {
     "data": {
      "text/html": [
       "<div>\n",
       "<style scoped>\n",
       "    .dataframe tbody tr th:only-of-type {\n",
       "        vertical-align: middle;\n",
       "    }\n",
       "\n",
       "    .dataframe tbody tr th {\n",
       "        vertical-align: top;\n",
       "    }\n",
       "\n",
       "    .dataframe thead th {\n",
       "        text-align: right;\n",
       "    }\n",
       "</style>\n",
       "<table border=\"1\" class=\"dataframe\">\n",
       "  <thead>\n",
       "    <tr style=\"text-align: right;\">\n",
       "      <th></th>\n",
       "      <th>match_id</th>\n",
       "      <th>match_date</th>\n",
       "      <th>kick_off</th>\n",
       "      <th>competition</th>\n",
       "      <th>season</th>\n",
       "      <th>home_team</th>\n",
       "      <th>away_team</th>\n",
       "      <th>home_score</th>\n",
       "      <th>away_score</th>\n",
       "      <th>match_status</th>\n",
       "      <th>...</th>\n",
       "      <th>last_updated_360</th>\n",
       "      <th>match_week</th>\n",
       "      <th>competition_stage</th>\n",
       "      <th>stadium</th>\n",
       "      <th>referee</th>\n",
       "      <th>home_managers</th>\n",
       "      <th>away_managers</th>\n",
       "      <th>data_version</th>\n",
       "      <th>shot_fidelity_version</th>\n",
       "      <th>xy_fidelity_version</th>\n",
       "    </tr>\n",
       "  </thead>\n",
       "  <tbody>\n",
       "    <tr>\n",
       "      <th>0</th>\n",
       "      <td>19770</td>\n",
       "      <td>2018-12-02</td>\n",
       "      <td>13:30:00.000</td>\n",
       "      <td>England - FA Women's Super League</td>\n",
       "      <td>2018/2019</td>\n",
       "      <td>Manchester City WFC</td>\n",
       "      <td>Arsenal WFC</td>\n",
       "      <td>2</td>\n",
       "      <td>0</td>\n",
       "      <td>available</td>\n",
       "      <td>...</td>\n",
       "      <td>2021-06-13T16:17:31.694</td>\n",
       "      <td>11</td>\n",
       "      <td>Regular Season</td>\n",
       "      <td>Academy Stadium</td>\n",
       "      <td>Abigail Marriott</td>\n",
       "      <td>Nick Cushing</td>\n",
       "      <td>Joseph Montemurro</td>\n",
       "      <td>1.0.3</td>\n",
       "      <td>None</td>\n",
       "      <td>None</td>\n",
       "    </tr>\n",
       "    <tr>\n",
       "      <th>1</th>\n",
       "      <td>19820</td>\n",
       "      <td>2019-05-11</td>\n",
       "      <td>13:30:00.000</td>\n",
       "      <td>England - FA Women's Super League</td>\n",
       "      <td>2018/2019</td>\n",
       "      <td>Reading WFC</td>\n",
       "      <td>Chelsea FCW</td>\n",
       "      <td>2</td>\n",
       "      <td>3</td>\n",
       "      <td>available</td>\n",
       "      <td>...</td>\n",
       "      <td>2021-06-13T16:17:31.694</td>\n",
       "      <td>22</td>\n",
       "      <td>Regular Season</td>\n",
       "      <td>Adams Park</td>\n",
       "      <td>Abigail Byrne</td>\n",
       "      <td>Kelly Chambers</td>\n",
       "      <td>Emma Hayes</td>\n",
       "      <td>1.1.0</td>\n",
       "      <td>2</td>\n",
       "      <td>None</td>\n",
       "    </tr>\n",
       "    <tr>\n",
       "      <th>2</th>\n",
       "      <td>19772</td>\n",
       "      <td>2018-12-02</td>\n",
       "      <td>15:00:00.000</td>\n",
       "      <td>England - FA Women's Super League</td>\n",
       "      <td>2018/2019</td>\n",
       "      <td>Chelsea FCW</td>\n",
       "      <td>Reading WFC</td>\n",
       "      <td>1</td>\n",
       "      <td>0</td>\n",
       "      <td>available</td>\n",
       "      <td>...</td>\n",
       "      <td>2021-06-13T16:17:31.694</td>\n",
       "      <td>11</td>\n",
       "      <td>Regular Season</td>\n",
       "      <td>Kingsmeadow</td>\n",
       "      <td>Lucy Oliver</td>\n",
       "      <td>Emma Hayes</td>\n",
       "      <td>Kelly Chambers</td>\n",
       "      <td>1.0.3</td>\n",
       "      <td>None</td>\n",
       "      <td>None</td>\n",
       "    </tr>\n",
       "    <tr>\n",
       "      <th>3</th>\n",
       "      <td>19769</td>\n",
       "      <td>2018-12-02</td>\n",
       "      <td>15:00:00.000</td>\n",
       "      <td>England - FA Women's Super League</td>\n",
       "      <td>2018/2019</td>\n",
       "      <td>Brighton &amp; Hove Albion WFC</td>\n",
       "      <td>West Ham United LFC</td>\n",
       "      <td>0</td>\n",
       "      <td>1</td>\n",
       "      <td>available</td>\n",
       "      <td>...</td>\n",
       "      <td>2021-06-13T16:17:31.694</td>\n",
       "      <td>11</td>\n",
       "      <td>Regular Season</td>\n",
       "      <td>Broadfield Stadium</td>\n",
       "      <td>Kirsty Dowle</td>\n",
       "      <td>Hope Patricia Powell</td>\n",
       "      <td>Matt Beard</td>\n",
       "      <td>1.0.3</td>\n",
       "      <td>None</td>\n",
       "      <td>None</td>\n",
       "    </tr>\n",
       "    <tr>\n",
       "      <th>4</th>\n",
       "      <td>19746</td>\n",
       "      <td>2018-10-28</td>\n",
       "      <td>15:00:00.000</td>\n",
       "      <td>England - FA Women's Super League</td>\n",
       "      <td>2018/2019</td>\n",
       "      <td>Everton LFC</td>\n",
       "      <td>West Ham United LFC</td>\n",
       "      <td>1</td>\n",
       "      <td>2</td>\n",
       "      <td>available</td>\n",
       "      <td>...</td>\n",
       "      <td>2021-06-13T16:17:31.694</td>\n",
       "      <td>7</td>\n",
       "      <td>Regular Season</td>\n",
       "      <td>Haig Avenue</td>\n",
       "      <td>Aaron Jackson</td>\n",
       "      <td>Andy Spence</td>\n",
       "      <td>Matt Beard</td>\n",
       "      <td>1.0.3</td>\n",
       "      <td>None</td>\n",
       "      <td>None</td>\n",
       "    </tr>\n",
       "  </tbody>\n",
       "</table>\n",
       "<p>5 rows × 22 columns</p>\n",
       "</div>"
      ],
      "text/plain": [
       "   match_id  match_date      kick_off                        competition  \\\n",
       "0     19770  2018-12-02  13:30:00.000  England - FA Women's Super League   \n",
       "1     19820  2019-05-11  13:30:00.000  England - FA Women's Super League   \n",
       "2     19772  2018-12-02  15:00:00.000  England - FA Women's Super League   \n",
       "3     19769  2018-12-02  15:00:00.000  England - FA Women's Super League   \n",
       "4     19746  2018-10-28  15:00:00.000  England - FA Women's Super League   \n",
       "\n",
       "      season                   home_team            away_team  home_score  \\\n",
       "0  2018/2019         Manchester City WFC          Arsenal WFC           2   \n",
       "1  2018/2019                 Reading WFC          Chelsea FCW           2   \n",
       "2  2018/2019                 Chelsea FCW          Reading WFC           1   \n",
       "3  2018/2019  Brighton & Hove Albion WFC  West Ham United LFC           0   \n",
       "4  2018/2019                 Everton LFC  West Ham United LFC           1   \n",
       "\n",
       "   away_score match_status  ...         last_updated_360 match_week  \\\n",
       "0           0    available  ...  2021-06-13T16:17:31.694         11   \n",
       "1           3    available  ...  2021-06-13T16:17:31.694         22   \n",
       "2           0    available  ...  2021-06-13T16:17:31.694         11   \n",
       "3           1    available  ...  2021-06-13T16:17:31.694         11   \n",
       "4           2    available  ...  2021-06-13T16:17:31.694          7   \n",
       "\n",
       "  competition_stage             stadium           referee  \\\n",
       "0    Regular Season    Academy Stadium   Abigail Marriott   \n",
       "1    Regular Season         Adams Park      Abigail Byrne   \n",
       "2    Regular Season         Kingsmeadow       Lucy Oliver   \n",
       "3    Regular Season  Broadfield Stadium      Kirsty Dowle   \n",
       "4    Regular Season         Haig Avenue     Aaron Jackson   \n",
       "\n",
       "          home_managers      away_managers data_version shot_fidelity_version  \\\n",
       "0          Nick Cushing  Joseph Montemurro        1.0.3                  None   \n",
       "1        Kelly Chambers         Emma Hayes        1.1.0                     2   \n",
       "2            Emma Hayes     Kelly Chambers        1.0.3                  None   \n",
       "3  Hope Patricia Powell         Matt Beard        1.0.3                  None   \n",
       "4           Andy Spence         Matt Beard        1.0.3                  None   \n",
       "\n",
       "  xy_fidelity_version  \n",
       "0                None  \n",
       "1                None  \n",
       "2                None  \n",
       "3                None  \n",
       "4                None  \n",
       "\n",
       "[5 rows x 22 columns]"
      ]
     },
     "execution_count": 7,
     "metadata": {},
     "output_type": "execute_result"
    }
   ],
   "source": [
    "wsl_2018.head()"
   ]
  },
  {
   "cell_type": "code",
   "execution_count": 8,
   "metadata": {},
   "outputs": [],
   "source": [
    "def get_player_data():\n",
    "    ''' Function to extract all player level data for WSL'''\n",
    "    all_events = []\n",
    "    season_ids = [4,42,90]  # 3 full seasons available on StatsBomb with those IDs\n",
    "    \n",
    "    for season in season_ids:\n",
    "        matches = sb.matches(competition_id = 37, season_id = season)\n",
    "        \n",
    "        for match_id in matches['match_id']:\n",
    "            try:\n",
    "                events = sb.events(match_id = match_id)\n",
    "                events['match_id'] = match_id\n",
    "                events['season_id'] = season\n",
    "                all_events.append(events)\n",
    "            except Exception as e:\n",
    "                print(f\"Failed match {match_id}: {e}\")\n",
    "                continue\n",
    "\n",
    "    print(\"Combine all events\")\n",
    "    all_events_df = pd.concat(all_events, ignore_index = True)\n",
    "    print(f\"Total events: {len(all_events_df):,}\")\n",
    "    print(f\"Unique players: {all_events_df['player_id'].nunique()}\")\n",
    "        \n",
    "    return all_events_df\n",
    "        \n",
    "    "
   ]
  },
  {
   "cell_type": "code",
   "execution_count": 9,
   "metadata": {},
   "outputs": [
    {
     "name": "stdout",
     "output_type": "stream",
     "text": [
      "Combine all events\n",
      "Total events: 1,095,921\n",
      "Unique players: 408\n"
     ]
    }
   ],
   "source": [
    "events_df = get_player_data()"
   ]
  },
  {
   "cell_type": "code",
   "execution_count": 10,
   "metadata": {},
   "outputs": [],
   "source": [
    "# Saving the data in parquet format give the size\n",
    "\n",
    "events_df.to_parquet('/Users/amitmishra/wsl_data/data/fawsl_events.parquet')"
   ]
  },
  {
   "cell_type": "code",
   "execution_count": 12,
   "metadata": {},
   "outputs": [
    {
     "name": "stdout",
     "output_type": "stream",
     "text": [
      "Total events: 1095921\n",
      "Unique players: 408\n",
      "Seasons included: 3\n"
     ]
    }
   ],
   "source": [
    "print(f'Total events: {len(events_df)}')\n",
    "print(f'Unique players: {events_df['player_id'].nunique()}')\n",
    "print(f'Seasons included: {events_df['season_id'].nunique()}')"
   ]
  },
  {
   "cell_type": "code",
   "execution_count": 13,
   "metadata": {},
   "outputs": [],
   "source": [
    "df_18 = events_df[events_df['season_id'] == 4]\n",
    "df_19 = events_df[events_df['season_id'] == 42]\n",
    "df_20 = events_df[events_df['season_id'] == 92]"
   ]
  },
  {
   "cell_type": "code",
   "execution_count": 14,
   "metadata": {},
   "outputs": [],
   "source": [
    "# Saving individual data in parquet format\n",
    "\n",
    "df_18.to_parquet('/Users/amitmishra/wsl_data/data/df_18.parquet')\n",
    "df_19.to_parquet('/Users/amitmishra/wsl_data/data/df_19.parquet')\n",
    "df_20.to_parquet('/Users/amitmishra/wsl_data/data/df_20.parquet')"
   ]
  }
 ],
 "metadata": {
  "kernelspec": {
   "display_name": "Python 3",
   "language": "python",
   "name": "python3"
  },
  "language_info": {
   "codemirror_mode": {
    "name": "ipython",
    "version": 3
   },
   "file_extension": ".py",
   "mimetype": "text/x-python",
   "name": "python",
   "nbconvert_exporter": "python",
   "pygments_lexer": "ipython3",
   "version": "3.13.0"
  },
  "orig_nbformat": 4
 },
 "nbformat": 4,
 "nbformat_minor": 2
}
